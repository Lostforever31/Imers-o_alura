{
  "nbformat": 4,
  "nbformat_minor": 0,
  "metadata": {
    "colab": {
      "provenance": [],
      "history_visible": true,
      "authorship_tag": "ABX9TyNoee7oXHRivo4NnYqG8RFZ",
      "include_colab_link": true
    },
    "kernelspec": {
      "name": "python3",
      "display_name": "Python 3"
    },
    "language_info": {
      "name": "python"
    }
  },
  "cells": [
    {
      "cell_type": "markdown",
      "metadata": {
        "id": "view-in-github",
        "colab_type": "text"
      },
      "source": [
        "<a href=\"https://colab.research.google.com/github/Lostforever31/Imersao_alura/blob/main/PrimeiroChatbo.ipynb\" target=\"_parent\"><img src=\"https://colab.research.google.com/assets/colab-badge.svg\" alt=\"Open In Colab\"/></a>"
      ]
    },
    {
      "cell_type": "markdown",
      "source": [
        "Baixando a IA"
      ],
      "metadata": {
        "id": "toWZbe6UuAf3"
      }
    },
    {
      "cell_type": "code",
      "execution_count": 1,
      "metadata": {
        "id": "Cxf8ouQ6trG0"
      },
      "outputs": [],
      "source": [
        "!pip install -q -U google-generativeai"
      ]
    },
    {
      "cell_type": "markdown",
      "source": [
        "Importando a IA para o codigo"
      ],
      "metadata": {
        "id": "32Ef0zWFuTMl"
      }
    },
    {
      "cell_type": "code",
      "source": [
        "# Import the Python SDK\n",
        "import google.generativeai as genai\n",
        "from google.colab import userdata\n",
        "api_key = userdata.get(\"SECRET_KEY\")\n",
        "\n",
        "\n",
        "genai.configure(api_key=api_key)"
      ],
      "metadata": {
        "id": "1qLsj4nKuOFI"
      },
      "execution_count": 37,
      "outputs": []
    },
    {
      "cell_type": "markdown",
      "source": [
        "Listar os modelos disponiveis"
      ],
      "metadata": {
        "id": "Wj9IDHZ-ufFH"
      }
    },
    {
      "cell_type": "code",
      "source": [
        "for m in genai.list_models():\n",
        "  if 'generateContent' in m.supported_generation_methods:\n",
        "    print(m.name)"
      ],
      "metadata": {
        "colab": {
          "base_uri": "https://localhost:8080/",
          "height": 145
        },
        "id": "xS6tkt06ubHf",
        "outputId": "94a13b5c-82a7-4c55-e2e2-b6cb95ec712d"
      },
      "execution_count": 3,
      "outputs": [
        {
          "output_type": "stream",
          "name": "stdout",
          "text": [
            "models/gemini-1.0-pro\n",
            "models/gemini-1.0-pro-001\n",
            "models/gemini-1.0-pro-latest\n",
            "models/gemini-1.0-pro-vision-latest\n",
            "models/gemini-1.5-pro-latest\n",
            "models/gemini-pro\n",
            "models/gemini-pro-vision\n"
          ]
        }
      ]
    },
    {
      "cell_type": "markdown",
      "source": [
        "Cnfigurando o chat bot"
      ],
      "metadata": {
        "id": "5oSExcAlyEda"
      }
    },
    {
      "cell_type": "code",
      "source": [
        "generation_config = {\n",
        "    \"candidate_count\":1,\n",
        "    \"temperature\":0.5,\n",
        "}"
      ],
      "metadata": {
        "id": "vGdGNL75wZxC"
      },
      "execution_count": 24,
      "outputs": []
    },
    {
      "cell_type": "code",
      "source": [
        "safety_settings={\n",
        "    'HATE': 'BLOCK_NONE',\n",
        "    'HARASSMENT': 'BLOCK_NONE',\n",
        "    'SEXUAL' : 'BLOCK_NONE',\n",
        "    'DANGEROUS' : 'BLOCK_NONE'\n",
        "    }"
      ],
      "metadata": {
        "id": "hn53QMXpxHW7"
      },
      "execution_count": 27,
      "outputs": []
    },
    {
      "cell_type": "markdown",
      "source": [
        "Inicializando o modelo"
      ],
      "metadata": {
        "id": "y_5VVyJKyqDn"
      }
    },
    {
      "cell_type": "code",
      "source": [
        "model = genai.GenerativeModel(model_name = \"gemini-1.0-pro\",\n",
        "                              generation_config = generation_config,\n",
        "                              safety_settings = safety_settings )"
      ],
      "metadata": {
        "id": "mtRm8KJbyqw3"
      },
      "execution_count": 28,
      "outputs": []
    },
    {
      "cell_type": "code",
      "source": [
        "response = model.generate_content(\"Vamos aprender conteudo sobre IA na alura\")\n",
        "print(response.text)"
      ],
      "metadata": {
        "colab": {
          "base_uri": "https://localhost:8080/",
          "height": 914
        },
        "id": "Jad54MBq1aE8",
        "outputId": "90510dc3-5393-4ae1-988f-ba44c28be242"
      },
      "execution_count": 30,
      "outputs": [
        {
          "output_type": "stream",
          "name": "stdout",
          "text": [
            "**Introdução à Inteligência Artificial na Alura**\n",
            "\n",
            "**Módulo 1: Fundamentos da IA**\n",
            "* O que é IA?\n",
            "* Tipos de IA\n",
            "* Aprendizado de máquina\n",
            "* Aprendizado profundo\n",
            "\n",
            "**Módulo 2: Aprendizado de Máquina Supervisionado**\n",
            "* Regressão linear\n",
            "* Classificação logística\n",
            "* Árvores de decisão\n",
            "* Florestas aleatórias\n",
            "\n",
            "**Módulo 3: Aprendizado de Máquina Não Supervisionado**\n",
            "* Agrupamento\n",
            "* Redução de dimensionalidade\n",
            "* Análise de componentes principais\n",
            "\n",
            "**Módulo 4: Aprendizado Profundo**\n",
            "* Redes neurais\n",
            "* Redes convolucionais\n",
            "* Redes recorrentes\n",
            "* Transformadores\n",
            "\n",
            "**Módulo 5: Aplicações da IA**\n",
            "* Visão computacional\n",
            "* Processamento de linguagem natural\n",
            "* Previsão e otimização\n",
            "* Automação\n",
            "\n",
            "**Módulo 6: Ética e Implicações da IA**\n",
            "* Viés e discriminação\n",
            "* Privacidade e segurança\n",
            "* Impacto no mercado de trabalho\n",
            "\n",
            "**Recursos Adicionais**\n",
            "\n",
            "* Fórum da comunidade\n",
            "* Suporte técnico\n",
            "* Materiais de estudo adicionais\n",
            "\n",
            "**Benefícios do Curso**\n",
            "\n",
            "* Compreensão aprofundada dos conceitos fundamentais da IA\n",
            "* Habilidades práticas em técnicas de aprendizado de máquina e aprendizado profundo\n",
            "* Conhecimento das aplicações da IA em vários setores\n",
            "* Conscientização sobre as implicações éticas e sociais da IA\n"
          ]
        }
      ]
    },
    {
      "cell_type": "code",
      "source": [
        "chat = model.start_chat(history=[])"
      ],
      "metadata": {
        "id": "QJc7v2TG2fos"
      },
      "execution_count": 31,
      "outputs": []
    },
    {
      "cell_type": "code",
      "source": [
        "prompt = input(\"Esperando prompt:\")\n",
        "\n",
        "while prompt != \"fim\":\n",
        "  response = chat.send_message(prompt)\n",
        "  print(\"Resposta \", response.text, \"\\n\")\n",
        "  prompt = input(\"Esperando prompt:\")"
      ],
      "metadata": {
        "colab": {
          "base_uri": "https://localhost:8080/",
          "height": 309
        },
        "id": "viyyDyPa2-Si",
        "outputId": "23b41c34-1305-4344-8f51-11b31805a8ab"
      },
      "execution_count": 34,
      "outputs": [
        {
          "name": "stdout",
          "output_type": "stream",
          "text": [
            "Esperando prompt:qual a capital do japão?\n",
            "Resposta  Tóquio \n",
            "\n",
            "Esperando prompt:qual a comida tipica desse país ?\n",
            "Resposta  Sushi \n",
            "\n",
            "Esperando prompt:meu primo nasceu nessa cidade\n",
            "Resposta  Tóquio \n",
            "\n",
            "Esperando prompt:qual a populacão dessa cidade\n",
            "Resposta  37.339.804 (2023) \n",
            "\n",
            "Esperando prompt:meu primo nasceu nessa cidade. qual sua nacionalidade?\n",
            "Resposta  Japonesa \n",
            "\n",
            "Esperando prompt:fim\n"
          ]
        }
      ]
    }
  ]
}